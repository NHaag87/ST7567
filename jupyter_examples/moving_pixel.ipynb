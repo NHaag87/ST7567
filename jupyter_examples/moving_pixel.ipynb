{
 "cells": [
  {
   "cell_type": "code",
   "execution_count": 1,
   "metadata": {},
   "outputs": [],
   "source": [
    "import numpy as np\n",
    "import requests\n",
    "from time import sleep\n",
    "\n",
    "server_url = 'http://127.0.0.1:8000'\n",
    "\n",
    "pixel_size = 10\n",
    "\n",
    "for y in range(0,64 - pixel_size, pixel_size):\n",
    "    for x in range(0, 128 - pixel_size, pixel_size):\n",
    "        image = np.zeros((64,128), dtype=np.uint8)\n",
    "        image[y:(y+pixel_size),x:(x+pixel_size)] = 1\n",
    "\n",
    "        requests.post(f'{server_url}/set_image_binary', data = {'image':image.tolist()})\n",
    "        sleep(0.5)\n"
   ]
  }
 ],
 "metadata": {
  "interpreter": {
   "hash": "d57b1730955ebb5e438e30e75014d0acda18b3ed3d304939775825257d803994"
  },
  "kernelspec": {
   "display_name": "Python 3.7.7 64-bit ('MachineLearning': conda)",
   "name": "python3"
  },
  "language_info": {
   "codemirror_mode": {
    "name": "ipython",
    "version": 3
   },
   "file_extension": ".py",
   "mimetype": "text/x-python",
   "name": "python",
   "nbconvert_exporter": "python",
   "pygments_lexer": "ipython3",
   "version": "3.7.7"
  },
  "orig_nbformat": 4
 },
 "nbformat": 4,
 "nbformat_minor": 2
}
