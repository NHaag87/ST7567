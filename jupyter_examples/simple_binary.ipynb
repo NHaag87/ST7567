{
 "cells": [
  {
   "cell_type": "code",
   "execution_count": null,
   "metadata": {},
   "outputs": [],
   "source": [
    "import requests\n",
    "import plotly.graph_objects as go\n",
    "import numpy as np\n",
    "from skimage import data\n",
    "from skimage.filters import threshold_otsu\n",
    "from skimage.transform import resize\n",
    "\n",
    "image = resize(data.horse(), (64,128))\n",
    "thresh = threshold_otsu(image)\n",
    "binary_image = np.flipud(image > thresh)\n",
    "\n",
    "server_url = 'http://127.0.0.1:8000'\n",
    "\n",
    "x = requests.post(f'{server_url}/set_image_binary', data = {'image':binary_image.astype(np.int)})\n",
    "print(x.status_code, ':', x.text)\n",
    "\n",
    "fig = go.Figure(go.Heatmap(z=binary_image.astype(np.int)))\n",
    "fig.show()"
   ]
  }
 ],
 "metadata": {
  "interpreter": {
   "hash": "d57b1730955ebb5e438e30e75014d0acda18b3ed3d304939775825257d803994"
  },
  "kernelspec": {
   "display_name": "Python 3.7.7 64-bit ('MachineLearning': conda)",
   "name": "python3"
  },
  "language_info": {
   "codemirror_mode": {
    "name": "ipython",
    "version": 3
   },
   "file_extension": ".py",
   "mimetype": "text/x-python",
   "name": "python",
   "nbconvert_exporter": "python",
   "pygments_lexer": "ipython3",
   "version": "3.7.7"
  },
  "orig_nbformat": 4
 },
 "nbformat": 4,
 "nbformat_minor": 2
}
